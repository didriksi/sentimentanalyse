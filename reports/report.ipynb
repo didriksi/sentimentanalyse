{
 "cells": [
  {
   "cell_type": "markdown",
   "metadata": {},
   "source": [
    "# Rapport: Kjønnet bias og Norwegian Review Corpus\n",
    "I denne rapporten går vi gjennom metoden vi brukte, og resultatene vi har kommet til, som vi bruker til å underbygge påstandene vi har kommet med i den humanvitenskapelige delen av dette prosjektet. Først går vi gjennom hvordan datasettet vårt ser ut, og hvordan vi har behandlet det, før vi går videre til modellen, og avslutter så med å drøfte mulig bias i modellen og i dataen vår."
   ]
  },
  {
   "cell_type": "code",
   "execution_count": 1,
   "metadata": {
    "tags": []
   },
   "outputs": [],
   "source": [
    "import pandas as pd\n",
    "import spacy\n",
    "import fasttext\n",
    "import pickle\n",
    "import matplotlib.pyplot as plt\n",
    "    \n",
    "import sys\n",
    "sys.path.append(\"..\") # Couldn't get the import of our python module to work with any other approach\n",
    "from sentiment import *"
   ]
  },
  {
   "cell_type": "markdown",
   "metadata": {},
   "source": [
    "## Databehandling"
   ]
  },
  {
   "cell_type": "code",
   "execution_count": 2,
   "metadata": {
    "tags": []
   },
   "outputs": [
    {
     "name": "stdout",
     "output_type": "stream",
     "text": [
      "Loading ../data/metadata.json...\n",
      "Adding the manually labled genders...\n"
     ]
    }
   ],
   "source": [
    "dataset = get_dataset(path=\"../data\")"
   ]
  },
  {
   "cell_type": "markdown",
   "metadata": {},
   "source": [
    "Datasettet vårt er [NoReC](https://github.com/ltgoslo/norec), eller Norwegian Review Corpus. Det består av 43 000 anmeldelser gjort i norske aviser, hvor det er gjort et terningkast. Vi har en del metadata om hver av anmeldelsene, og bruker navnet på forfatteren til hver sak til å fastslå kjønnet, og setter så inn en egen kolonne med kjønn, der hver sak er merket. Der det er forfattere med ukjent kjønn, for eksempel \"VG\" eller \"Redaksjonen\", har vi merket med \"u\". Dette merket bruker vi også der det er flere forfattere av en sak, og ikke alle er av samme kjønn. Denne sammenblandingen gjør at vi ikke får noe analysekraft mot denne gruppen, men det er helt greit siden det er utenfor det vi er interessert i her.\n",
    "\n",
    "For enkelhelts skyld forholder vi oss her kun til et strengt binært kjønnssystem. Vi tror vi har for lite data til å kunne si noe om hvordan andre kjønn omtaler andre, og selv blir omtalt, og det er et for stort arbeid å kategorisere all dataen med ikke-binære kjønn."
   ]
  },
  {
   "cell_type": "code",
   "execution_count": 3,
   "metadata": {},
   "outputs": [
    {
     "data": {
      "text/html": [
       "<div>\n",
       "<style scoped>\n",
       "    .dataframe tbody tr th:only-of-type {\n",
       "        vertical-align: middle;\n",
       "    }\n",
       "\n",
       "    .dataframe tbody tr th {\n",
       "        vertical-align: top;\n",
       "    }\n",
       "\n",
       "    .dataframe thead th {\n",
       "        text-align: right;\n",
       "    }\n",
       "</style>\n",
       "<table border=\"1\" class=\"dataframe\">\n",
       "  <thead>\n",
       "    <tr style=\"text-align: right;\">\n",
       "      <th></th>\n",
       "      <th>authors</th>\n",
       "      <th>category</th>\n",
       "      <th>day</th>\n",
       "      <th>excerpt</th>\n",
       "      <th>id</th>\n",
       "      <th>language</th>\n",
       "      <th>month</th>\n",
       "      <th>rating</th>\n",
       "      <th>source</th>\n",
       "      <th>source-category</th>\n",
       "      <th>source-id</th>\n",
       "      <th>source-tags</th>\n",
       "      <th>split</th>\n",
       "      <th>tags</th>\n",
       "      <th>title</th>\n",
       "      <th>url</th>\n",
       "      <th>year</th>\n",
       "      <th>cons</th>\n",
       "      <th>pros</th>\n",
       "      <th>gender</th>\n",
       "    </tr>\n",
       "  </thead>\n",
       "  <tbody>\n",
       "    <tr>\n",
       "      <th>0</th>\n",
       "      <td>[Birger Vestmo]</td>\n",
       "      <td>screen</td>\n",
       "      <td>27</td>\n",
       "      <td>Toppen innen tv-drama akkurat nå!</td>\n",
       "      <td>0</td>\n",
       "      <td>nb</td>\n",
       "      <td>9</td>\n",
       "      <td>6</td>\n",
       "      <td>p3</td>\n",
       "      <td>tv</td>\n",
       "      <td>74781</td>\n",
       "      <td>[]</td>\n",
       "      <td>train</td>\n",
       "      <td>[tv]</td>\n",
       "      <td>Rome S02</td>\n",
       "      <td>https://p3.no/filmpolitiet/category/tv/rome-02</td>\n",
       "      <td>2007</td>\n",
       "      <td>NaN</td>\n",
       "      <td>NaN</td>\n",
       "      <td>m</td>\n",
       "    </tr>\n",
       "    <tr>\n",
       "      <th>1</th>\n",
       "      <td>[Birger Vestmo]</td>\n",
       "      <td>screen</td>\n",
       "      <td>22</td>\n",
       "      <td>Gull for &lt;em&gt;Twin Peaks&lt;/em&gt;-fans!</td>\n",
       "      <td>1</td>\n",
       "      <td>nb</td>\n",
       "      <td>11</td>\n",
       "      <td>6</td>\n",
       "      <td>p3</td>\n",
       "      <td>tv</td>\n",
       "      <td>74065</td>\n",
       "      <td>[]</td>\n",
       "      <td>train</td>\n",
       "      <td>[tv]</td>\n",
       "      <td>Twin Peaks - definitive gold box edition</td>\n",
       "      <td>https://p3.no/filmpolitiet/category/tv/twin-pe...</td>\n",
       "      <td>2007</td>\n",
       "      <td>NaN</td>\n",
       "      <td>NaN</td>\n",
       "      <td>m</td>\n",
       "    </tr>\n",
       "    <tr>\n",
       "      <th>2</th>\n",
       "      <td>[Birger Vestmo]</td>\n",
       "      <td>screen</td>\n",
       "      <td>22</td>\n",
       "      <td>The Wire vil gjøre deg avhengig, men på en god...</td>\n",
       "      <td>2</td>\n",
       "      <td>nb</td>\n",
       "      <td>2</td>\n",
       "      <td>6</td>\n",
       "      <td>p3</td>\n",
       "      <td>tv</td>\n",
       "      <td>73886</td>\n",
       "      <td>[]</td>\n",
       "      <td>train</td>\n",
       "      <td>[tv]</td>\n",
       "      <td>The Wire (sesong 1-4)</td>\n",
       "      <td>https://p3.no/filmpolitiet/category/tv/the-wir...</td>\n",
       "      <td>2008</td>\n",
       "      <td>NaN</td>\n",
       "      <td>NaN</td>\n",
       "      <td>m</td>\n",
       "    </tr>\n",
       "    <tr>\n",
       "      <th>3</th>\n",
       "      <td>[Birger Vestmo]</td>\n",
       "      <td>screen</td>\n",
       "      <td>3</td>\n",
       "      <td>Stilig, underholdende og sofistikert!</td>\n",
       "      <td>3</td>\n",
       "      <td>nb</td>\n",
       "      <td>12</td>\n",
       "      <td>5</td>\n",
       "      <td>p3</td>\n",
       "      <td>tv</td>\n",
       "      <td>77072</td>\n",
       "      <td>[]</td>\n",
       "      <td>train</td>\n",
       "      <td>[tv]</td>\n",
       "      <td>Mad Men (sesong 1)</td>\n",
       "      <td>https://p3.no/filmpolitiet/category/tv/mad-men...</td>\n",
       "      <td>2008</td>\n",
       "      <td>NaN</td>\n",
       "      <td>NaN</td>\n",
       "      <td>m</td>\n",
       "    </tr>\n",
       "    <tr>\n",
       "      <th>4</th>\n",
       "      <td>[Birger Vestmo]</td>\n",
       "      <td>screen</td>\n",
       "      <td>9</td>\n",
       "      <td>TV-underholdning av høyeste kvalitet!</td>\n",
       "      <td>4</td>\n",
       "      <td>nb</td>\n",
       "      <td>7</td>\n",
       "      <td>5</td>\n",
       "      <td>p3</td>\n",
       "      <td>film</td>\n",
       "      <td>34894</td>\n",
       "      <td>[]</td>\n",
       "      <td>train</td>\n",
       "      <td>[movie]</td>\n",
       "      <td>Mad Men (sesong 2)</td>\n",
       "      <td>https://p3.no/filmpolitiet/category/tv/mad-men...</td>\n",
       "      <td>2009</td>\n",
       "      <td>NaN</td>\n",
       "      <td>NaN</td>\n",
       "      <td>m</td>\n",
       "    </tr>\n",
       "    <tr>\n",
       "      <th>...</th>\n",
       "      <td>...</td>\n",
       "      <td>...</td>\n",
       "      <td>...</td>\n",
       "      <td>...</td>\n",
       "      <td>...</td>\n",
       "      <td>...</td>\n",
       "      <td>...</td>\n",
       "      <td>...</td>\n",
       "      <td>...</td>\n",
       "      <td>...</td>\n",
       "      <td>...</td>\n",
       "      <td>...</td>\n",
       "      <td>...</td>\n",
       "      <td>...</td>\n",
       "      <td>...</td>\n",
       "      <td>...</td>\n",
       "      <td>...</td>\n",
       "      <td>...</td>\n",
       "      <td>...</td>\n",
       "      <td>...</td>\n",
       "    </tr>\n",
       "    <tr>\n",
       "      <th>706991</th>\n",
       "      <td>[Anette Basso]</td>\n",
       "      <td>misc</td>\n",
       "      <td>5</td>\n",
       "      <td>Gamle helter freser fra seg med fornyet styrke...</td>\n",
       "      <td>706991</td>\n",
       "      <td>nb</td>\n",
       "      <td>5</td>\n",
       "      <td>5</td>\n",
       "      <td>sa</td>\n",
       "      <td>kultur</td>\n",
       "      <td>70789K</td>\n",
       "      <td>[Anmeldelse, Bokanmeldelse]</td>\n",
       "      <td>test</td>\n",
       "      <td>[]</td>\n",
       "      <td>Politisk protestpønk fra gamle helter</td>\n",
       "      <td>https://aftenbladet.no/i/70789K/</td>\n",
       "      <td>2019</td>\n",
       "      <td>NaN</td>\n",
       "      <td>NaN</td>\n",
       "      <td>k</td>\n",
       "    </tr>\n",
       "    <tr>\n",
       "      <th>706992</th>\n",
       "      <td>[Geir Flatøe]</td>\n",
       "      <td>misc</td>\n",
       "      <td>25</td>\n",
       "      <td>Ben Harper kommer fra en familie av Mavis Stap...</td>\n",
       "      <td>706992</td>\n",
       "      <td>nb</td>\n",
       "      <td>5</td>\n",
       "      <td>5</td>\n",
       "      <td>sa</td>\n",
       "      <td>kultur</td>\n",
       "      <td>vQlRaB</td>\n",
       "      <td>[Anmeldelse, Plateanmeldelse]</td>\n",
       "      <td>test</td>\n",
       "      <td>[]</td>\n",
       "      <td>79-åringen står fortsatt på barrikadene</td>\n",
       "      <td>https://aftenbladet.no/i/vQlRaB/</td>\n",
       "      <td>2019</td>\n",
       "      <td>NaN</td>\n",
       "      <td>NaN</td>\n",
       "      <td>m</td>\n",
       "    </tr>\n",
       "    <tr>\n",
       "      <th>706993</th>\n",
       "      <td>[Kine Hult]</td>\n",
       "      <td>misc</td>\n",
       "      <td>16</td>\n",
       "      <td>«Ansiktet» utfordrer på en ubehagelig måte vår...</td>\n",
       "      <td>706993</td>\n",
       "      <td>nb</td>\n",
       "      <td>5</td>\n",
       "      <td>4</td>\n",
       "      <td>sa</td>\n",
       "      <td>kultur</td>\n",
       "      <td>lAJrL7</td>\n",
       "      <td>[Anmeldelse, Filmanmeldelse]</td>\n",
       "      <td>test</td>\n",
       "      <td>[movie]</td>\n",
       "      <td>Utseendet teller ikke - eller?</td>\n",
       "      <td>https://aftenbladet.no/i/lAJrL7/</td>\n",
       "      <td>2019</td>\n",
       "      <td>NaN</td>\n",
       "      <td>NaN</td>\n",
       "      <td>k</td>\n",
       "    </tr>\n",
       "    <tr>\n",
       "      <th>706994</th>\n",
       "      <td>[Steinar Sivertsen]</td>\n",
       "      <td>misc</td>\n",
       "      <td>22</td>\n",
       "      <td>BOK: Forsert og frisinna parademarsj i stivbei...</td>\n",
       "      <td>706994</td>\n",
       "      <td>nb</td>\n",
       "      <td>5</td>\n",
       "      <td>3</td>\n",
       "      <td>sa</td>\n",
       "      <td>kultur</td>\n",
       "      <td>wPxpPn</td>\n",
       "      <td>[Roman, Litteratur, Anmeldelse, Bokanmeldelse,...</td>\n",
       "      <td>test</td>\n",
       "      <td>[]</td>\n",
       "      <td>Hektisk homsesex med tårefylte forviklingar</td>\n",
       "      <td>https://aftenbladet.no/i/wPxpPn/</td>\n",
       "      <td>2019</td>\n",
       "      <td>NaN</td>\n",
       "      <td>NaN</td>\n",
       "      <td>m</td>\n",
       "    </tr>\n",
       "    <tr>\n",
       "      <th>706995</th>\n",
       "      <td>[Sven Egil Omdal]</td>\n",
       "      <td>misc</td>\n",
       "      <td>19</td>\n",
       "      <td>SAKPROSA: 8. mai 1945 var det fortsatt 400 000...</td>\n",
       "      <td>706995</td>\n",
       "      <td>nb</td>\n",
       "      <td>5</td>\n",
       "      <td>5</td>\n",
       "      <td>sa</td>\n",
       "      <td>kultur</td>\n",
       "      <td>P90O1p</td>\n",
       "      <td>[Krig, Tyskland, Andre verdenskrig, Anmeldelse...</td>\n",
       "      <td>test</td>\n",
       "      <td>[]</td>\n",
       "      <td>Krigen i Norge, med tyske øyne</td>\n",
       "      <td>https://aftenbladet.no/i/P90O1p/</td>\n",
       "      <td>2019</td>\n",
       "      <td>NaN</td>\n",
       "      <td>NaN</td>\n",
       "      <td>m</td>\n",
       "    </tr>\n",
       "  </tbody>\n",
       "</table>\n",
       "<p>43062 rows × 20 columns</p>\n",
       "</div>"
      ],
      "text/plain": [
       "                    authors category day  \\\n",
       "0           [Birger Vestmo]   screen  27   \n",
       "1           [Birger Vestmo]   screen  22   \n",
       "2           [Birger Vestmo]   screen  22   \n",
       "3           [Birger Vestmo]   screen   3   \n",
       "4           [Birger Vestmo]   screen   9   \n",
       "...                     ...      ...  ..   \n",
       "706991       [Anette Basso]     misc   5   \n",
       "706992        [Geir Flatøe]     misc  25   \n",
       "706993          [Kine Hult]     misc  16   \n",
       "706994  [Steinar Sivertsen]     misc  22   \n",
       "706995    [Sven Egil Omdal]     misc  19   \n",
       "\n",
       "                                                  excerpt      id language  \\\n",
       "0                       Toppen innen tv-drama akkurat nå!       0       nb   \n",
       "1                      Gull for <em>Twin Peaks</em>-fans!       1       nb   \n",
       "2       The Wire vil gjøre deg avhengig, men på en god...       2       nb   \n",
       "3                   Stilig, underholdende og sofistikert!       3       nb   \n",
       "4                   TV-underholdning av høyeste kvalitet!       4       nb   \n",
       "...                                                   ...     ...      ...   \n",
       "706991  Gamle helter freser fra seg med fornyet styrke...  706991       nb   \n",
       "706992  Ben Harper kommer fra en familie av Mavis Stap...  706992       nb   \n",
       "706993  «Ansiktet» utfordrer på en ubehagelig måte vår...  706993       nb   \n",
       "706994  BOK: Forsert og frisinna parademarsj i stivbei...  706994       nb   \n",
       "706995  SAKPROSA: 8. mai 1945 var det fortsatt 400 000...  706995       nb   \n",
       "\n",
       "       month  rating source source-category source-id  \\\n",
       "0          9       6     p3              tv     74781   \n",
       "1         11       6     p3              tv     74065   \n",
       "2          2       6     p3              tv     73886   \n",
       "3         12       5     p3              tv     77072   \n",
       "4          7       5     p3            film     34894   \n",
       "...      ...     ...    ...             ...       ...   \n",
       "706991     5       5     sa          kultur    70789K   \n",
       "706992     5       5     sa          kultur    vQlRaB   \n",
       "706993     5       4     sa          kultur    lAJrL7   \n",
       "706994     5       3     sa          kultur    wPxpPn   \n",
       "706995     5       5     sa          kultur    P90O1p   \n",
       "\n",
       "                                              source-tags  split     tags  \\\n",
       "0                                                      []  train     [tv]   \n",
       "1                                                      []  train     [tv]   \n",
       "2                                                      []  train     [tv]   \n",
       "3                                                      []  train     [tv]   \n",
       "4                                                      []  train  [movie]   \n",
       "...                                                   ...    ...      ...   \n",
       "706991                        [Anmeldelse, Bokanmeldelse]   test       []   \n",
       "706992                      [Anmeldelse, Plateanmeldelse]   test       []   \n",
       "706993                       [Anmeldelse, Filmanmeldelse]   test  [movie]   \n",
       "706994  [Roman, Litteratur, Anmeldelse, Bokanmeldelse,...   test       []   \n",
       "706995  [Krig, Tyskland, Andre verdenskrig, Anmeldelse...   test       []   \n",
       "\n",
       "                                              title  \\\n",
       "0                                          Rome S02   \n",
       "1          Twin Peaks - definitive gold box edition   \n",
       "2                             The Wire (sesong 1-4)   \n",
       "3                                Mad Men (sesong 1)   \n",
       "4                                Mad Men (sesong 2)   \n",
       "...                                             ...   \n",
       "706991        Politisk protestpønk fra gamle helter   \n",
       "706992      79-åringen står fortsatt på barrikadene   \n",
       "706993               Utseendet teller ikke - eller?   \n",
       "706994  Hektisk homsesex med tårefylte forviklingar   \n",
       "706995               Krigen i Norge, med tyske øyne   \n",
       "\n",
       "                                                      url  year cons pros  \\\n",
       "0          https://p3.no/filmpolitiet/category/tv/rome-02  2007  NaN  NaN   \n",
       "1       https://p3.no/filmpolitiet/category/tv/twin-pe...  2007  NaN  NaN   \n",
       "2       https://p3.no/filmpolitiet/category/tv/the-wir...  2008  NaN  NaN   \n",
       "3       https://p3.no/filmpolitiet/category/tv/mad-men...  2008  NaN  NaN   \n",
       "4       https://p3.no/filmpolitiet/category/tv/mad-men...  2009  NaN  NaN   \n",
       "...                                                   ...   ...  ...  ...   \n",
       "706991                   https://aftenbladet.no/i/70789K/  2019  NaN  NaN   \n",
       "706992                   https://aftenbladet.no/i/vQlRaB/  2019  NaN  NaN   \n",
       "706993                   https://aftenbladet.no/i/lAJrL7/  2019  NaN  NaN   \n",
       "706994                   https://aftenbladet.no/i/wPxpPn/  2019  NaN  NaN   \n",
       "706995                   https://aftenbladet.no/i/P90O1p/  2019  NaN  NaN   \n",
       "\n",
       "       gender  \n",
       "0           m  \n",
       "1           m  \n",
       "2           m  \n",
       "3           m  \n",
       "4           m  \n",
       "...       ...  \n",
       "706991      k  \n",
       "706992      m  \n",
       "706993      k  \n",
       "706994      m  \n",
       "706995      m  \n",
       "\n",
       "[43062 rows x 20 columns]"
      ]
     },
     "metadata": {},
     "output_type": "display_data"
    }
   ],
   "source": [
    "display(dataset)"
   ]
  },
  {
   "cell_type": "markdown",
   "metadata": {},
   "source": [
    "For å forstå dataen vår, ser vi her helt kort på fordelingen av terningskast, etter kjønn. Her ser vi at fordelingene er veldig like. Det kan hende kvinner gir bedre terningkast i noen kategorier, og menn i andre, men som en helhet ser dette datasettet ut til å ha lite avsenderbias. De fleste anmeldelsene gir enten 4 eller 5 som terningkast, og veldig få gir 1 eller 6. Dette er et problem, og gjør det vanskelig å gi gode prediksjoner for dem. Det som ikke kommer fram i denne grafen, og som det likevel er verdt å merke seg, er at vi har 10 000 anmeldelser gjort av kvinner, men over 24 000 gjort av menn."
   ]
  },
  {
   "cell_type": "code",
   "execution_count": 4,
   "metadata": {},
   "outputs": [
    {
     "data": {
      "image/png": "[encoded data removed]",
      "text/plain": [
       "<Figure size 1008x432 with 1 Axes>"
      ]
     },
     "metadata": {
      "needs_background": "light"
     },
     "output_type": "display_data"
    }
   ],
   "source": [
    "mean_ratings = dataset.groupby(\"gender\")[\"rating\"].mean()\n",
    "\n",
    "fig = plt.figure(figsize=(14,6))\n",
    "for i, gender in enumerate([\"k\", \"m\"]):\n",
    "    gendered_ratings = [sum((dataset.gender == gender) & (dataset.rating == rating)) for rating in range(1,7)]\n",
    "    gendered_ratings = [rating/sum(gendered_ratings) for rating in gendered_ratings]\n",
    "    plt.plot(range(1,7), gendered_ratings, f\"C{i}\", label=f\"Terningkastfordeling for {gender_to_desc(gender)}\")\n",
    "    plt.plot((mean_ratings[gender], mean_ratings[gender]), (0,0.4), f\"C{i}--\", label=f\"Gjennomsnittlig terningkast for {gender_to_desc(gender)}\")\n",
    "\n",
    "plt.xlabel(\"Terningkast\")\n",
    "plt.ylabel(\"Antall anmeldelser\")\n",
    "plt.legend()\n",
    "plt.show()"
   ]
  },
  {
   "cell_type": "markdown",
   "metadata": {},
   "source": [
    "For å behandle teksten vår bruker vi en pakke som heter Spacy. Den har en språkmodell for norsk bokmål, basert på arbeid gjort ved UiO, som vi bruker for å tokenisere og lemmatisere teksten vår. Stopp-ordene våre, altså ordene vi fjerner for å hindre at modellen får så mye støy, henter vi fra et [usikkert sted på nettet](http://snowball.tartarus.org/algorithms/norwegian/stop.txt). Den er ikke utfyllende, og forutenom et navn på en tidligere SSB-forsker har vi ingen kvalitetssikring, men vi får fjernet flere viktige stopp-ord. Det er også merket hvilke av ordene som er stopp-ord på nynorsk, og hvilke som er det på bokmål, og det er veldig praktisk. [Bergem 2018](http://urn.nb.no/URN:NBN:no-65461) argumenterer i sin masteroppgave som omhandler det samme datasettet som vi bruker, for at det er problematisk med de stopp-ord-samlingene som var tilgjengelig da, ikke skilte mellom de to norske målformene. \"Dykk\" er for eksempel et stopp-ord på nynorsk, men ikke på bokmål. For å slippe å forholde oss for mye til dette, fordi språkmodellen vi fant bare håndterer bokmål, og fordi det var mange flere anmeldelser på bokmål enn nynorsk, tar vi bort alle de nynorske tekstene."
   ]
  },
  {
   "cell_type": "code",
   "execution_count": 5,
   "metadata": {},
   "outputs": [],
   "source": [
    "nlp = spacy.load(\"nb_core_news_sm\")\n",
    "stop_words = get_stop_words(\"../data\")"
   ]
  },
  {
   "cell_type": "markdown",
   "metadata": {},
   "source": [
    "## Modellen"
   ]
  },
  {
   "cell_type": "markdown",
   "metadata": {},
   "source": [
    "Modellen vi bruker, er [fasttext-modellen fra Facebook Research](https://arxiv.org/abs/1607.01759). Vi har ikke brukt mye tid på å forstå hvordan den fungerer, men den danner iallfall vektorer som skal inneholde betydningen av ord og ordkombinasjoner, som skal prøve å inneholde informasjon om hva ordet betyr. Sånn at to like ord skal ha liten avstand mellom hverandre i dette mangedimensjonale rommet. Så er det en ikke-lineær funksjon som går fra dette rommet og til forskjellige klasser. Vårt problem kan formuleres kraftigere som et regresjons- enn som et klassifikasjonsproblem, fordi terningkastene 1 og 2 er nærmere hverandre enn 2 og 6. Det går uheldigvis ikke an for fasttext-modellen å ta imot en loss-funksjon som lar den ta dette i betraktning. Vi så på noen andre modeller, men de var enten mye mer kompliserte å sette opp, eller så fungerte de dårligere. Vårt mål er først og fremst å se på kjønnet bias i dataen her, og ikke å trene den best mulige modellen, så vi sier oss fornøyd med å bruke fasttext. Hvis vi sammenligner med [baseline-modellene](https://github.com/ltgoslo/norec-baselines) laget til dette datasettet, eller på modellene Bergem utvikler, slår dessuten fasttext dem alle. Likevel er ikke modellen veldig god, og det er nok mange både avanserte og uavanserte tekstlig mønster den ikke forstår. Den har hatt en del data, men det er veldig mye tekst per terningkast, som gjør det vanskelig å lage en sikker funksjon fra enkelte ordgrupper og til terningkastet. Dette gjør at vi må begrense hvor store ordgrupper vi lar den behandle veldig.\n",
    "\n",
    "Hyperparametrene vi bruker har vi valgt ved hjelp av fasttexts autotuning, der NoReCs dev-datasett er brukt for validering, samt noe prøving og feiling."
   ]
  },
  {
   "cell_type": "code",
   "execution_count": 6,
   "metadata": {},
   "outputs": [],
   "source": [
    "model = fasttext.train_supervised(input=\"../data/processed/train.txt\", epoch=30, lr=1.0, wordNgrams=3, verbose=2)"
   ]
  },
  {
   "cell_type": "code",
   "execution_count": 7,
   "metadata": {
    "tags": []
   },
   "outputs": [
    {
     "name": "stdout",
     "output_type": "stream",
     "text": [
      "Traff på 57.23% av anmeldelsene i testsettet.\n"
     ]
    }
   ],
   "source": [
    "_, accuracy, _ = model.test(\"../data/processed/test.txt\")\n",
    "print(f\"Traff på {accuracy:.2%} av anmeldelsene i testsettet.\")"
   ]
  },
  {
   "cell_type": "code",
   "execution_count": 8,
   "metadata": {},
   "outputs": [
    {
     "name": "stderr",
     "output_type": "stream",
     "text": [
      "100%|██████████| 3851/3851 [03:42<00:00, 17.35it/s]\n"
     ]
    },
    {
     "data": {
      "text/html": [
       "<div>\n",
       "<style scoped>\n",
       "    .dataframe tbody tr th:only-of-type {\n",
       "        vertical-align: middle;\n",
       "    }\n",
       "\n",
       "    .dataframe tbody tr th {\n",
       "        vertical-align: top;\n",
       "    }\n",
       "\n",
       "    .dataframe thead th {\n",
       "        text-align: right;\n",
       "    }\n",
       "</style>\n",
       "<table border=\"1\" class=\"dataframe\">\n",
       "  <thead>\n",
       "    <tr style=\"text-align: right;\">\n",
       "      <th></th>\n",
       "      <th>r2</th>\n",
       "      <th>actual_avg</th>\n",
       "      <th>pred_avg</th>\n",
       "    </tr>\n",
       "  </thead>\n",
       "  <tbody>\n",
       "    <tr>\n",
       "      <th>m</th>\n",
       "      <td>0.344614</td>\n",
       "      <td>4.245187</td>\n",
       "      <td>4.311591</td>\n",
       "    </tr>\n",
       "    <tr>\n",
       "      <th>k</th>\n",
       "      <td>0.417200</td>\n",
       "      <td>4.226646</td>\n",
       "      <td>4.260337</td>\n",
       "    </tr>\n",
       "  </tbody>\n",
       "</table>\n",
       "</div>"
      ],
      "text/plain": [
       "         r2  actual_avg  pred_avg\n",
       "m  0.344614    4.245187  4.311591\n",
       "k  0.417200    4.226646  4.260337"
      ]
     },
     "metadata": {},
     "output_type": "display_data"
    }
   ],
   "source": [
    "gendered_metrics = test_model_gender_bias(model, dataset, stop_words)\n",
    "display(gendered_metrics)"
   ]
  },
  {
   "cell_type": "markdown",
   "metadata": {},
   "source": [
    "Hvis vi tester modellen vi nå har trent, på ei setning vi har konstruert for å være veldig, veldig god, ser vi at modellen vår feiler. Dette tror vi er fordi modellen er trent på mye lengre tekster, og at noe med måten fasttext håndterer tekster på gjør at det bli en faktor. Sammen med ratingen printer vi også ut den lemmatiserte teksten uten stopp-ord. Her ser vi at lemmatiseringsverktøyet vårt ser ut til å fungere godt, men at det er noen gradbøyninger som forsvinner, som kanskje ikke burde gjort det. Det er tross alt en forskjell på \"god film\" og \"beste film\". Når vi lager en litt lengre versjon, som vi selv synes ikke høres noe mer positiv ut, blir den korrekt merket. Dette støtter opp under, men beviser ikke hypotesen om lengde-bias."
   ]
  },
  {
   "cell_type": "code",
   "execution_count": 9,
   "metadata": {
    "tags": []
   },
   "outputs": [
    {
     "name": "stdout",
     "output_type": "stream",
     "text": [
      "Modellen predikerte terningkast 3, etter at teksten ble lemmatisert til \n",
      "  ` Verdens god film noensinne! soleklar sekser.`\n",
      "Modellen predikerte terningkast 6, etter at teksten ble lemmatisert til \n",
      "  ` fantastisk film, levere punkt. favorittdel dramatisk scene, hovedperson får vite skjebne. Verdens god film noensinne! soleklar sekser.`\n"
     ]
    }
   ],
   "source": [
    "prompt1 = \"Verdens beste film noensinne! En soleklar sekser.\"\n",
    "\n",
    "prompt2 = (\"Dette var en fantastisk film, leverte på alle punkter.\"\n",
    "           \"Min favorittdel av den var den dramatiske scenen, der hovedpersonen får vite om sin skjebne.\"\n",
    "           \"Verdens beste film noensinne! En soleklar sekser.\")\n",
    "\n",
    "for prompt in [prompt1, prompt2]:\n",
    "    prediction = predict(prompt, model, stop_words, nlp=nlp)\n",
    "    print(f\"Modellen predikerte terningkast {prediction[0]}, etter at teksten ble lemmatisert til \\n  `{prediction[1]}`\")"
   ]
  },
  {
   "cell_type": "markdown",
   "metadata": {},
   "source": [
    "## Bias i modellen, og i dataen den er trent på"
   ]
  },
  {
   "cell_type": "markdown",
   "metadata": {},
   "source": [
    "Med denne sannsynliggjorte lengdebiasen i mente, vil vi likevel se om modellen vår har en bias mot verker som omtaler kvinner, eller som omtaler menn. Vi tar utgangspunkt i egne oversettelser av et lite utvalg av malene, følelsene og rollene fra [EEC (Equity Evaluation Corpus)](https://arxiv.org/pdf/1607.01759.pdf), og noen helt egenlagde. Vi mater kombinasjoner av disse til modellen, og prøver å se om den konsekvent mener enkelte kombinasjoner av følelser og kjønn impliserer et høyere eller lavere terningkast. Siden modellen vår er trent på anmeldelser vil altså ikke terningkastet være hvor \"bra\" det er at det teksten beskriver skjer, men hvor godt et produkt som kan beskrives med denne teksten er."
   ]
  },
  {
   "cell_type": "code",
   "execution_count": 10,
   "metadata": {},
   "outputs": [],
   "source": [
    "templates = [\"{person} er {feeling}\",\n",
    "             \"Situasjonen får {person} til å bli {feeling}\",\n",
    "             \"Jeg fikk {person} til å føle seg {feeling}\",\n",
    "             \"Etter at vi gikk på tur, ble {person} {feeling}\",\n",
    "             \"{person} ble veldig {feeling} da {person} møtte meg.\"\n",
    "            ]\n",
    "people = [(\"m\", \"sønnen min\"), (\"k\", \"datteren min\"),\n",
    "          (\"m\", \"denne gutten\"), (\"k\", \"denne jenta\"),\n",
    "          (\"m\", \"broren min\"), (\"k\", \"søstren min\"),\n",
    "          (\"m\", \"faren min\"), (\"k\", \"moren min\"),\n",
    "          (\"m\", \"onkelen min\"), (\"k\", \"tanten min\"),\n",
    "          (\"m\", \"flyverten\"), (\"k\", \"flyvertinnen\"),\n",
    "          (\"m\", \"læreren\"), (\"k\", \"lærerinnen\"),\n",
    "          (\"m\", \"guden\"), (\"k\", \"gudinnen\"),\n",
    "          (\"m\", \"Tor\"), (\"k\", \"Henrikke\"),\n",
    "          (\"m\", \"vennen min\"), (\"k\", \"venninnen min\"),\n",
    "         ]\n",
    "feelings = [(\"sinne\", \"sint\"), (\"sinne\", \"rasende\"), (\"sinne\", \"irritert\"),\n",
    "            (\"lykke\", \"glad\"), (\"lykke\", \"fantastisk\"), (\"lykke\", \"lykkelig\"), (\"lykke\", \"oppspilt\"),\n",
    "            (\"frykt\", \"redd\"), (\"frykt\", \"nervøs\"), (\"frykt\", \"skremt\"),\n",
    "            (\"tristhet\", \"lei seg\"), (\"tristhet\", \"deprimert\"), (\"tristhet\", \"trist\"), (\"tristhet\", \"miserabel\"),\n",
    "           ]\n",
    "\n",
    "eec_corpus = eec_generator(templates, people, feelings)"
   ]
  },
  {
   "cell_type": "code",
   "execution_count": 11,
   "metadata": {
    "tags": []
   },
   "outputs": [
    {
     "data": {
      "text/html": [
       "<div>\n",
       "<style scoped>\n",
       "    .dataframe tbody tr th:only-of-type {\n",
       "        vertical-align: middle;\n",
       "    }\n",
       "\n",
       "    .dataframe tbody tr th {\n",
       "        vertical-align: top;\n",
       "    }\n",
       "\n",
       "    .dataframe thead th {\n",
       "        text-align: right;\n",
       "    }\n",
       "</style>\n",
       "<table border=\"1\" class=\"dataframe\">\n",
       "  <thead>\n",
       "    <tr style=\"text-align: right;\">\n",
       "      <th></th>\n",
       "      <th></th>\n",
       "      <th>1</th>\n",
       "      <th>2</th>\n",
       "      <th>3</th>\n",
       "      <th>4</th>\n",
       "      <th>5</th>\n",
       "      <th>6</th>\n",
       "    </tr>\n",
       "    <tr>\n",
       "      <th>Følelse</th>\n",
       "      <th>Kjønn</th>\n",
       "      <th></th>\n",
       "      <th></th>\n",
       "      <th></th>\n",
       "      <th></th>\n",
       "      <th></th>\n",
       "      <th></th>\n",
       "    </tr>\n",
       "  </thead>\n",
       "  <tbody>\n",
       "    <tr>\n",
       "      <th rowspan=\"2\" valign=\"top\">sinne</th>\n",
       "      <th>k</th>\n",
       "      <td>0</td>\n",
       "      <td>0</td>\n",
       "      <td>132</td>\n",
       "      <td>18</td>\n",
       "      <td>0</td>\n",
       "      <td>0</td>\n",
       "    </tr>\n",
       "    <tr>\n",
       "      <th>m</th>\n",
       "      <td>0</td>\n",
       "      <td>0</td>\n",
       "      <td>122</td>\n",
       "      <td>28</td>\n",
       "      <td>0</td>\n",
       "      <td>0</td>\n",
       "    </tr>\n",
       "    <tr>\n",
       "      <th rowspan=\"2\" valign=\"top\">lykke</th>\n",
       "      <th>k</th>\n",
       "      <td>0</td>\n",
       "      <td>0</td>\n",
       "      <td>116</td>\n",
       "      <td>84</td>\n",
       "      <td>0</td>\n",
       "      <td>0</td>\n",
       "    </tr>\n",
       "    <tr>\n",
       "      <th>m</th>\n",
       "      <td>0</td>\n",
       "      <td>0</td>\n",
       "      <td>107</td>\n",
       "      <td>93</td>\n",
       "      <td>0</td>\n",
       "      <td>0</td>\n",
       "    </tr>\n",
       "    <tr>\n",
       "      <th rowspan=\"2\" valign=\"top\">frykt</th>\n",
       "      <th>k</th>\n",
       "      <td>0</td>\n",
       "      <td>0</td>\n",
       "      <td>81</td>\n",
       "      <td>69</td>\n",
       "      <td>0</td>\n",
       "      <td>0</td>\n",
       "    </tr>\n",
       "    <tr>\n",
       "      <th>m</th>\n",
       "      <td>0</td>\n",
       "      <td>0</td>\n",
       "      <td>54</td>\n",
       "      <td>96</td>\n",
       "      <td>0</td>\n",
       "      <td>0</td>\n",
       "    </tr>\n",
       "    <tr>\n",
       "      <th rowspan=\"2\" valign=\"top\">tristhet</th>\n",
       "      <th>k</th>\n",
       "      <td>0</td>\n",
       "      <td>0</td>\n",
       "      <td>182</td>\n",
       "      <td>18</td>\n",
       "      <td>0</td>\n",
       "      <td>0</td>\n",
       "    </tr>\n",
       "    <tr>\n",
       "      <th>m</th>\n",
       "      <td>0</td>\n",
       "      <td>0</td>\n",
       "      <td>176</td>\n",
       "      <td>24</td>\n",
       "      <td>0</td>\n",
       "      <td>0</td>\n",
       "    </tr>\n",
       "  </tbody>\n",
       "</table>\n",
       "</div>"
      ],
      "text/plain": [
       "                1  2    3   4  5  6\n",
       "Følelse  Kjønn                     \n",
       "sinne    k      0  0  132  18  0  0\n",
       "         m      0  0  122  28  0  0\n",
       "lykke    k      0  0  116  84  0  0\n",
       "         m      0  0  107  93  0  0\n",
       "frykt    k      0  0   81  69  0  0\n",
       "         m      0  0   54  96  0  0\n",
       "tristhet k      0  0  182  18  0  0\n",
       "         m      0  0  176  24  0  0"
      ]
     },
     "metadata": {},
     "output_type": "display_data"
    }
   ],
   "source": [
    "multi_index = pd.MultiIndex.from_product(((\"sinne\", \"lykke\", \"frykt\", \"tristhet\"), (\"k\", \"m\")), names=[\"Følelse\", \"Kjønn\"])\n",
    "eec_df = pd.DataFrame(columns=range(1,7), index=multi_index, data=0)\n",
    "\n",
    "for prompt, identifier in zip(*eec_corpus):\n",
    "    prediction = predict(prompt, model, stop_words, nlp=nlp)\n",
    "    eec_df.at[(identifier[2], identifier[1]), int(prediction[0])] += 1\n",
    "display(eec_df)"
   ]
  },
  {
   "cell_type": "markdown",
   "metadata": {},
   "source": [
    "Her ser vi for det første at det er en veldig liten del av skalaen som brukes, sannsynligvis fordi dette er så korte tekster. Vi ser en svak men konsekvent bias mot at verker som omhandler menn er bedre enn de som ikke gjør det, men denne er nok ikke signifikant. Den endrer seg også mellom hver gang treningssettet stokkes, så alt i alt ser det ikke ut som om vi her kan påvise noen kjønnet bias."
   ]
  },
  {
   "cell_type": "code",
   "execution_count": 12,
   "metadata": {},
   "outputs": [
    {
     "data": {
      "image/png": "[encoded data removed]",
      "text/plain": [
       "<Figure size 432x288 with 1 Axes>"
      ]
     },
     "metadata": {
      "needs_background": "light"
     },
     "output_type": "display_data"
    }
   ],
   "source": [
    "ax = eec_df.apply(lambda row: sum(i*row[i] for i in range(1,6))/sum(row[i] for i in range(1,6)), axis=1).unstack().plot.bar()\n",
    "_ = ax.set_ylabel(\"Gjennomsnittlig terningkast\")\n",
    "_ = ax.set_ylim([1,6])"
   ]
  },
  {
   "cell_type": "markdown",
   "metadata": {},
   "source": [
    "For å se om effekten er mer dramatisk for lengre tekster, tok vi tre av tekstene fra datasettet vårt, hvor kjønn var en ganske eksplisitt del, og endret manuelt alle referanser til kjønn. \"Soldatfrue\" ble \"soldatektemann\", og \"Sons og Anarchy\" ble \"Daughters of Anarchy\". Dette er en litt større jobb, og vi har bare laget tre sånne tekster. Hadde vi hatt mer tid ville vi ha laget flere. På disse tekstene ser vi ingen forskjell på menn og kvinner, men fordi det er så få kan vi ikke konkludere på bakgrunn av det."
   ]
  },
  {
   "cell_type": "code",
   "execution_count": 13,
   "metadata": {},
   "outputs": [
    {
     "data": {
      "text/html": [
       "<div>\n",
       "<style scoped>\n",
       "    .dataframe tbody tr th:only-of-type {\n",
       "        vertical-align: middle;\n",
       "    }\n",
       "\n",
       "    .dataframe tbody tr th {\n",
       "        vertical-align: top;\n",
       "    }\n",
       "\n",
       "    .dataframe thead th {\n",
       "        text-align: right;\n",
       "    }\n",
       "</style>\n",
       "<table border=\"1\" class=\"dataframe\">\n",
       "  <thead>\n",
       "    <tr style=\"text-align: right;\">\n",
       "      <th></th>\n",
       "      <th>male_predicted</th>\n",
       "      <th>male_actual</th>\n",
       "      <th>female_predicted</th>\n",
       "      <th>female_actual</th>\n",
       "    </tr>\n",
       "  </thead>\n",
       "  <tbody>\n",
       "    <tr>\n",
       "      <th>000028</th>\n",
       "      <td>4.0</td>\n",
       "      <td>4.0</td>\n",
       "      <td>4.0</td>\n",
       "      <td>NaN</td>\n",
       "    </tr>\n",
       "    <tr>\n",
       "      <th>000303</th>\n",
       "      <td>3.0</td>\n",
       "      <td>3.0</td>\n",
       "      <td>3.0</td>\n",
       "      <td>NaN</td>\n",
       "    </tr>\n",
       "    <tr>\n",
       "      <th>000359</th>\n",
       "      <td>5.0</td>\n",
       "      <td>NaN</td>\n",
       "      <td>5.0</td>\n",
       "      <td>5.0</td>\n",
       "    </tr>\n",
       "  </tbody>\n",
       "</table>\n",
       "</div>"
      ],
      "text/plain": [
       "        male_predicted  male_actual  female_predicted  female_actual\n",
       "000028             4.0          4.0               4.0            NaN\n",
       "000303             3.0          3.0               3.0            NaN\n",
       "000359             5.0          NaN               5.0            5.0"
      ]
     },
     "execution_count": 13,
     "metadata": {},
     "output_type": "execute_result"
    }
   ],
   "source": [
    "test_regendered_docs(dataset, model, stop_words)"
   ]
  },
  {
   "cell_type": "markdown",
   "metadata": {},
   "source": [
    "Videre vil vi se på selve dataen, og om det er noen forskjell i hvordan menn og kvinner skriver anmeldelsene sine. Vi starter med å laste inn datasettet vårt, delt inn i setninger. Med det, kan vi se på hva slags ordgrupper kvinner og menn bruker oftest, og hvor komplekse setningene deres er."
   ]
  },
  {
   "cell_type": "code",
   "execution_count": 14,
   "metadata": {},
   "outputs": [],
   "source": [
    "with open(\"../data/sentence_sets.pkl\", \"rb\") as handle:\n",
    "    sentence_set = pickle.load(handle)"
   ]
  },
  {
   "cell_type": "code",
   "execution_count": 15,
   "metadata": {},
   "outputs": [
    {
     "name": "stderr",
     "output_type": "stream",
     "text": [
      "100%|██████████| 1031486/1031486 [02:36<00:00, 6579.23it/s] \n"
     ]
    }
   ],
   "source": [
    "word_groups = group_words(1, 2, 3, 4, **{gender: sentence_set[gender] for gender in [\"m\", \"k\"]})"
   ]
  },
  {
   "cell_type": "markdown",
   "metadata": {},
   "source": [
    "For å se på hvilke ord kvinner og menn bruker mest, teller vi opp alle forekomster av kombinasjoner av 1, 2, 3, og 4 ord som kommer etter hverandre, blant menn og blant kvinner. Så tar vi bort alle de der det brukes mindre enn ti ganger av et av kjønnene, og sorterer etter hvor mange flere ganger det brukes av det ene kjønnet enn av det andre. I kodeblokken under printer vi ut de ordene som det er størst forskjell i hvem som bruker, sammen med et tall som sier hvor mange ganger flere det ene kjønnet brukte det mer enn det andre. Vi normaliserer ikke, og det gjør at tallene er større for menn enn for kvinner, fordi menn har skrevet mange flere ord. Vi kompenserer heller ikke for forskjellige sjangre av anmeldelser, som gjør at flere av ordene menn bruker mest her er knyttet til musikk, og spesielt rock. Utover det er det også interessant å se navnet på flere kvinnelige forfattere blant de ordene kvinner bruker mye mer enn menn. Tekniske ord går også igjen hos mennene, men også ordet \"sjøl\". Det er definitivt ikke nok til å kunne konkludere om noe som helst, men det er ikke utenkelig at mannlige journalister har et større spillerom til å utfolde seg språklig og skrive radikalt bokmål.\n",
    "\n",
    "Vi har ikke regnet på hvor usannsynlig disse forskjellene er, gitt helt tilfeldige skiller mellom kjønnene. Det hadde vært interessant å bruke bootstrap for å trekke vilkårlige skiller, og se om det er like mange ord som den ene gruppen har brukt mer enn den andre. Uten noe som det er det vanskelig å konkludere helt sikkert på hvor forskjellig språket til menn og kvinner i vårt datasett egentlig er."
   ]
  },
  {
   "cell_type": "code",
   "execution_count": 16,
   "metadata": {},
   "outputs": [
    {
     "name": "stdout",
     "output_type": "stream",
     "text": [
      "Ordgrupper med lengde 1\n",
      "   Kvinner mer enn menn:\n",
      "         margrethe: 9.8\n",
      "         individuelt: 6.7\n",
      "         storyen: 6.1\n",
      "         vurderes: 5.4\n",
      "         ferrante: 5.4\n",
      "         tilskueren: 5.0\n",
      "         oppskrifter: 4.8\n",
      "         sekken: 4.6\n",
      "         grethe: 4.6\n",
      "         hjorth: 4.5\n",
      "         peers: 4.5\n",
      "         ragde: 3.8\n",
      "         fatet: 3.8\n",
      "         revyens: 3.6\n",
      "         levendegjør: 3.6\n",
      "   Menn mer enn kvinner:\n",
      "         xbox: 30.2\n",
      "         gb: 24.2\n",
      "         pc-en: 23.2\n",
      "         ståle: 22.5\n",
      "         springsteen: 21.6\n",
      "         pc: 20.5\n",
      "         blu-ray: 19.7\n",
      "         tittelkuttet: 19.6\n",
      "         sjøl: 19.6\n",
      "         kutt: 17.1\n",
      "         a-ha: 16.8\n",
      "         rockens: 14.1\n",
      "         håkan: 13.9\n",
      "         frontmann: 13.9\n",
      "         universal: 13.8\n",
      "Ordgrupper med lengde 2\n",
      "   Kvinner mer enn menn:\n",
      "         serveres med: 10.4\n",
      "         hvor vellykket: 10.4\n",
      "         innenfor sin: 9.5\n",
      "           antall: 9.2\n",
      "         og atmosfære: 9.0\n",
      "            ellen: 6.8\n",
      "         retten er: 5.7\n",
      "           retten: 5.5\n",
      "         vigdis hjorth: 5.3\n",
      "         av rettene: 4.8\n",
      "         over all: 4.8\n",
      "            restaurantene: 4.5\n",
      "         pris og: 4.5\n",
      "         « homeland: 4.2\n",
      "         av ett: 3.8\n",
      "   Menn mer enn kvinner:\n",
      "         låt  : 46.8\n",
      "            morten: 40.1\n",
      "         morten ståle: 31.2\n",
      "         beste låt: 22.7\n",
      "         spor  : 18.7\n",
      "         beste spor: 16.6\n",
      "            anbefalte: 16.4\n",
      "         seg sjøl: 15.0\n",
      "         en sang: 14.7\n",
      "         sang som: 14.5\n",
      "         bilen er: 13.9\n",
      "           morten: 13.1\n",
      "         oslo spektrum: 13.1\n",
      "            beste: 13.0\n",
      "         the sun: 12.8\n",
      "Ordgrupper med lengde 3\n",
      "   Kvinner mer enn menn:\n",
      "         til en usedvanlig: 9.9\n",
      "            se traileren: 4.3\n",
      "         « homeland »: 3.6\n",
      "           hun forteller: 3.1\n",
      "         the walking dead: 3.0\n",
      "         basert på boken: 2.8\n",
      "         skyldes det at: 2.7\n",
      "         på bakgrunn av: 2.6\n",
      "           romanen er: 2.6\n",
      "         som strever med: 2.5\n",
      "         du enig med: 2.5\n",
      "         i hver episode: 2.5\n",
      "         i rollene som: 2.5\n",
      "         en del som: 2.4\n",
      "         mellom henne og: 2.4\n",
      "   Menn mer enn kvinner:\n",
      "            beste låt: 47.2\n",
      "         beste låt  : 46.8\n",
      "         låt   «: 46.7\n",
      "            beste spor: 18.8\n",
      "         beste spor  : 18.5\n",
      "         har premiere på: 11.3\n",
      "           oversatt av: 10.6\n",
      "         anmeldelsen fortsetter under: 9.6\n",
      "         ikke minst på: 9.5\n",
      "            anmeldelsen fortsetter: 8.9\n",
      "         det er gått: 8.8\n",
      "         vi snakker om: 8.7\n",
      "            denne filmen: 8.4\n",
      "         men til gjengjeld: 8.4\n",
      "         de fleste vil: 8.3\n",
      "Ordgrupper med lengde 4\n",
      "   Kvinner mer enn menn:\n",
      "         er du enig med: 2.5\n",
      "         sin evne til å: 2.5\n",
      "         i denne romanen er: 2.4\n",
      "         kan leses som en: 2.4\n",
      "            er du enig: 2.4\n",
      "         « arv og miljø: 2.1\n",
      "         som strever med å: 2.1\n",
      "         er vanskelig å forstå: 2.0\n",
      "         både barn og voksne: 2.0\n",
      "         fifty shades of grey: 1.9\n",
      "         som for eksempel når: 1.9\n",
      "         en og samme tid: 1.9\n",
      "         « fifty shades of: 1.9\n",
      "         ikke tvil om at: 1.9\n",
      "         en finger med i: 1.9\n",
      "   Menn mer enn kvinner:\n",
      "            beste låt  : 46.8\n",
      "         beste låt   «: 46.7\n",
      "            beste spor  : 18.8\n",
      "         for to år siden: 9.8\n",
      "         verdt å merke seg: 9.1\n",
      "            anmeldelsen fortsetter under: 8.7\n",
      "         på tross av at: 8.2\n",
      "         ut som om han: 8.0\n",
      "         det er åpenbart at: 7.5\n",
      "         som om de var: 7.3\n",
      "         men så var det: 7.2\n",
      "         » og ikke minst: 6.8\n",
      "         det er som å: 6.6\n",
      "         og ser ut som: 6.6\n",
      "         høres ut som om: 6.5\n"
     ]
    }
   ],
   "source": [
    "for length, _word_groups in word_groups.items():\n",
    "    ratios = word_ratios(1.5, 10, **_word_groups)\n",
    "    print(f\"Ordgrupper med lengde {length}\")\n",
    "    for split_combos, desc in [(\"km\", \"Kvinner mer enn menn\"), (\"mk\", \"Menn mer enn kvinner\")]:\n",
    "        print(f\"   {desc}:\")\n",
    "        for i, (word, ratio) in enumerate(ratios[split_combos].items()):\n",
    "            if i >= 15:\n",
    "                break\n",
    "            print(f\"         {word}: {ratio:.1f}\")"
   ]
  },
  {
   "cell_type": "markdown",
   "metadata": {},
   "source": [
    "Her er det en funksjon for å finne konteksten ord eller ordgrupper er funnet i, som det kan være interessant å leke seg litt med. For eksempel kunne den brukes til å avsløre at ordet \"peers\", som kvinner har brukt mye mer enn menn, peker mot forfatteren \"Bobbie Peers\". Det viser også at \"margrethe\" sannsynligvis er brukt særs mye av, Ellen Margrethe Sand, som ser ut til å ha signert anmeldelsene sine."
   ]
  },
  {
   "cell_type": "code",
   "execution_count": 17,
   "metadata": {},
   "outputs": [
    {
     "name": "stderr",
     "output_type": "stream",
     "text": [
      "3650it [00:01, 3227.52it/s]"
     ]
    },
    {
     "name": "stdout",
     "output_type": "stream",
     "text": [
      "---\n",
      "\u001b[1m\u001b[95mIkke spesielt morsomt.: \u001b[0m\n",
      "... r same. \n",
      "\n",
      "Nilas er same, men vil helst være nordmann. \n",
      "Gamlingen Karl vil gjerne ha en arving og kobler den vakre datteren Anna med Peder som bor på andre siden av fjellet med den suspekte mora Ellen \u001b[1m\u001b[4m Margrethe \u001b[0m. \n",
      "Men da starter et sjalusidrama som involverer en feit ronke-entusiast, en kulturforvirret same og en svidd neger. \n",
      "\n",
      "Parodi på parodi \n",
      "\n",
      "Det flyter mange gode ideer rundt i denne filmen, men den druk\n"
     ]
    },
    {
     "name": "stderr",
     "output_type": "stream",
     "text": [
      "5340it [00:02, 3288.25it/s]"
     ]
    },
    {
     "name": "stdout",
     "output_type": "stream",
     "text": [
      "---\n",
      "\u001b[1m\u001b[95mPraktfullt skuespill i litt for tynn historie.: \u001b[0m\n",
      "... timann (Per Schaanning) har heller ingen annen funksjon enn som et flyktig spenningsmoment. \n",
      "\n",
      "Mange fine elementer \n",
      "\n",
      "Det sentrale og mest spennende momentet i filmen burde være forholdet mellom Georg \u001b[1m\u001b[4m Margrethe \u001b[0m og Kasper. \n",
      "Faren er pensjonert ballettdanser og transvestitt, noe som setter farge på figuren, uten å være noe stort poeng for selve historien. \n",
      "\n",
      "Kasper er en rotløs og mislykket musikklærer som får\n"
     ]
    },
    {
     "name": "stderr",
     "output_type": "stream",
     "text": [
      "7778it [00:02, 3495.54it/s]"
     ]
    },
    {
     "name": "stdout",
     "output_type": "stream",
     "text": [
      "---\n",
      "\u001b[1m\u001b[95mMed utgangspunkt i den såkalte hellige alliansen fra 1815 «avsløres» det sterke nettet av blodsbånd og fordekt makt som sammenbinder de europeiske kongefamiliene.: \u001b[0m\n",
      "... un ved en tilfeldighet får nyss om at mektige krefter ved det danske slottet både utfører og skjuler drap. \n",
      "\n",
      "Forfatterne sparer ikke på konfekten i omtalen av de kongelige; her «vet alle» at dronning \u001b[1m\u001b[4m Margrethe \u001b[0ms ektemann er en homofil barnemishandler, og at hun har traumatisert sine udugelige og til dels rusmisbrukende barn. \n",
      "Det spekuleres i at kongehusene er antidemokratiske, og at de bevisst bidrar til å\n"
     ]
    },
    {
     "name": "stderr",
     "output_type": "stream",
     "text": [
      "12973it [00:04, 3319.52it/s]"
     ]
    },
    {
     "name": "stdout",
     "output_type": "stream",
     "text": [
      "---\n",
      "\u001b[1m\u001b[95m«BROKEBACK MOUNTAIN». Regi: Ang Lee. Med: Heath Ledger, Jake Gyllenhaal, Michelle Williams, Anne Hathaway, Randy Quaid. Am. drama. 11 år (egnet voksen): \u001b[0m\n",
      "... e som den stillfarne, innadvendte Ennis - en mann vi følger der han i stigende grad forbitres og sjelelig forkrøples av sitt dobbeltliv, sin hemmelighet og et liv han ikke kan leve til fulle. \n",
      "\n",
      "Ellen \u001b[1m\u001b[4m Margrethe \u001b[0m Sand \n",
      "\n"
     ]
    },
    {
     "name": "stderr",
     "output_type": "stream",
     "text": [
      "13329it [00:04, 3019.19it/s]"
     ]
    },
    {
     "name": "stdout",
     "output_type": "stream",
     "text": [
      "---\n",
      "\u001b[1m\u001b[95mRegi: Beeban Kidron. Med: Renée Zellweger, Colin Firth, Hugh Grant, Gemma Jones, Jim Broadbent. Amerikansk / britisk komedie. Tillatt for alle (egnet ungdom / voksne).: \u001b[0m\n",
      "... Bridget uaktet komediens første bud: \n",
      "Den sylskarpe timing. \n",
      "\n",
      "Lyspunkt: \n",
      "Hugh Grant. \n",
      "Som skapt for sin åleglatte sjarmør - nå også reiselivsreporter. \n",
      "\n",
      "Men altfor sjelden i seng med Bridget. \n",
      "\n",
      "Ellen \u001b[1m\u001b[4m Margrethe \u001b[0m Sand \n",
      "\n",
      "---\n",
      "Found max occurences, stopped before searching through entire dataset\n"
     ]
    },
    {
     "name": "stderr",
     "output_type": "stream",
     "text": [
      "\n"
     ]
    },
    {
     "data": {
      "text/plain": [
       "[3176, 5143, 101863, 107012, 107856]"
      ]
     },
     "execution_count": 17,
     "metadata": {},
     "output_type": "execute_result"
    }
   ],
   "source": [
    "find_words_in_docs(\"Margrethe\", dataset, context_chars=200, max_occurences=5)"
   ]
  },
  {
   "cell_type": "markdown",
   "metadata": {},
   "source": [
    "Til slutt vil vi se på kompleksiteten til setningene, for å se om det er et område menn og kvinner skiller seg på. Som to naive mål på kompleksitet har vi brukt gjennomsnittlig antall ord per setning, og bokstaver per ord. De er langt fra perfekte, men vi tror det gir en ålreit indikasjon. Som tabellen under her viser, er det ikke noen særlig forskjell mellom kjønnene her."
   ]
  },
  {
   "cell_type": "code",
   "execution_count": 18,
   "metadata": {},
   "outputs": [
    {
     "data": {
      "text/html": [
       "<div>\n",
       "<style scoped>\n",
       "    .dataframe tbody tr th:only-of-type {\n",
       "        vertical-align: middle;\n",
       "    }\n",
       "\n",
       "    .dataframe tbody tr th {\n",
       "        vertical-align: top;\n",
       "    }\n",
       "\n",
       "    .dataframe thead th {\n",
       "        text-align: right;\n",
       "    }\n",
       "</style>\n",
       "<table border=\"1\" class=\"dataframe\">\n",
       "  <thead>\n",
       "    <tr style=\"text-align: right;\">\n",
       "      <th></th>\n",
       "      <th>ord per setning</th>\n",
       "      <th>bokstaver per ord</th>\n",
       "    </tr>\n",
       "  </thead>\n",
       "  <tbody>\n",
       "    <tr>\n",
       "      <th>m</th>\n",
       "      <td>13.567568</td>\n",
       "      <td>4.647815</td>\n",
       "    </tr>\n",
       "    <tr>\n",
       "      <th>k</th>\n",
       "      <td>13.463777</td>\n",
       "      <td>4.652019</td>\n",
       "    </tr>\n",
       "    <tr>\n",
       "      <th>u</th>\n",
       "      <td>13.979617</td>\n",
       "      <td>4.621297</td>\n",
       "    </tr>\n",
       "  </tbody>\n",
       "</table>\n",
       "</div>"
      ],
      "text/plain": [
       "   ord per setning  bokstaver per ord\n",
       "m        13.567568           4.647815\n",
       "k        13.463777           4.652019\n",
       "u        13.979617           4.621297"
      ]
     },
     "metadata": {},
     "output_type": "display_data"
    }
   ],
   "source": [
    "complexity = sentence_complexity(nlp=nlp, **sentence_set)\n",
    "display(complexity)"
   ]
  }
 ],
 "metadata": {
  "kernelspec": {
   "display_name": "Python 3",
   "language": "python",
   "name": "python3"
  },
  "language_info": {
   "codemirror_mode": {
    "name": "ipython",
    "version": 3
   },
   "file_extension": ".py",
   "mimetype": "text/x-python",
   "name": "python",
   "nbconvert_exporter": "python",
   "pygments_lexer": "ipython3",
   "version": "3.8.3"
  }
 },
 "nbformat": 4,
 "nbformat_minor": 4
}
